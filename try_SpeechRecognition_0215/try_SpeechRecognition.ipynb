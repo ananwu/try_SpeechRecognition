{
 "cells": [
  {
   "cell_type": "code",
   "execution_count": 19,
   "metadata": {
    "collapsed": true
   },
   "outputs": [],
   "source": [
    "## reference http://www.largitdata.com/course/87/\n",
    "## reference https://cloud.google.com/speech/docs/samples\n",
    "## 用麥克風辨認中文\n",
    "## 測試結果：10秒還ok 但是谷阿莫說話聲音太快XDD\n",
    "\n",
    "import speech_recognition\n",
    "r = speech_recognition.Recognizer()\n",
    "\n",
    "with speech_recognition.Microphone() as source:\n",
    "    audio = r.listen(source)"
   ]
  },
  {
   "cell_type": "code",
   "execution_count": 22,
   "metadata": {
    "collapsed": false
   },
   "outputs": [],
   "source": [
    "speech_text = r.recognize_google(audio, language = \"zh-Tw\")\n",
    "speech_text"
   ]
  },
  {
   "cell_type": "code",
   "execution_count": 25,
   "metadata": {
    "collapsed": false
   },
   "outputs": [
    {
     "data": {
      "text/plain": [
       "'{接著來介紹一個認為這個世界上有不為人知的魔法師的關你屁事啊大聲叫著他收養的知名門派報社訂報社老闆說我們必須現在有魔法這種天分再婚}'"
      ]
     },
     "execution_count": 25,
     "metadata": {},
     "output_type": "execute_result"
    }
   ],
   "source": [
    "'{' + speech_text + '}'"
   ]
  },
  {
   "cell_type": "code",
   "execution_count": null,
   "metadata": {
    "collapsed": true
   },
   "outputs": [],
   "source": [
    "speech_text = "
   ]
  },
  {
   "cell_type": "code",
   "execution_count": 60,
   "metadata": {
    "collapsed": false
   },
   "outputs": [
    {
     "name": "stdout",
     "output_type": "stream",
     "text": [
      "{\"candidates\":[{\"words\":\"接著 來 介紹 一個 認 為 這 個 世 界 上 有 不 為 人 知 的 魔法師 的 關你屁事 啊 大聲叫 著 他 收養 的 知 名 門 派報社 訂 報 社 老闆說 我 們 必 須 現在 有魔法 這種 天分 再婚\",\"probability\":-259.863}]}\n"
     ]
    }
   ],
   "source": [
    "## cognitiveapi Python 3.2 \n",
    "## Web Language Model API\n",
    "\n",
    "import http.client, urllib.request, urllib.parse, urllib.error, base64\n",
    "\n",
    "headers = {\n",
    "    # Request headers\n",
    "    'Ocp-Apim-Subscription-Key': '3ce37868ee2645d383faf9fcfe416f54',\n",
    "}\n",
    "\n",
    "params = urllib.parse.urlencode({\n",
    "    # Request parameters\n",
    "    'model': 'query', # fail in anchor ; ok in query/title/body\n",
    "    'text': speech_text,\n",
    "    'order': '2', # 不知道怎麼選比較好\n",
    "    'maxNumOfCandidatesReturned': '1',\n",
    "})\n",
    "\n",
    "try:\n",
    "    conn = http.client.HTTPSConnection('westus.api.cognitive.microsoft.com')\n",
    "    conn.request(\"POST\", \"/text/weblm/v1.0/breakIntoWords?%s\" % params, \"{body}\", headers)\n",
    "    response = conn.getresponse()\n",
    "    data = response.read()\n",
    "    print(data.decode()) # unicode要decode\n",
    "    conn.close()\n",
    "except Exception as e:\n",
    "    print(\"[Errno {0}] {1}\".format(e.errno, e.strerror))"
   ]
  },
  {
   "cell_type": "code",
   "execution_count": 61,
   "metadata": {
    "collapsed": false
   },
   "outputs": [
    {
     "data": {
      "text/html": [
       "<div>\n",
       "<table border=\"1\" class=\"dataframe\">\n",
       "  <thead>\n",
       "    <tr style=\"text-align: right;\">\n",
       "      <th></th>\n",
       "      <th>candidates</th>\n",
       "    </tr>\n",
       "  </thead>\n",
       "  <tbody>\n",
       "    <tr>\n",
       "      <th>0</th>\n",
       "      <td>{'words': '接著 來 介紹 一個 認 為 這 個 世 界 上 有 不 為 人 知 ...</td>\n",
       "    </tr>\n",
       "  </tbody>\n",
       "</table>\n",
       "</div>"
      ],
      "text/plain": [
       "                                          candidates\n",
       "0  {'words': '接著 來 介紹 一個 認 為 這 個 世 界 上 有 不 為 人 知 ..."
      ]
     },
     "execution_count": 61,
     "metadata": {},
     "output_type": "execute_result"
    }
   ],
   "source": [
    "import pandas as pd\n",
    "pd.read_json(data.decode())"
   ]
  }
 ],
 "metadata": {
  "kernelspec": {
   "display_name": "Python 3",
   "language": "python",
   "name": "python3"
  },
  "language_info": {
   "codemirror_mode": {
    "name": "ipython",
    "version": 3
   },
   "file_extension": ".py",
   "mimetype": "text/x-python",
   "name": "python",
   "nbconvert_exporter": "python",
   "pygments_lexer": "ipython3",
   "version": "3.6.0"
  }
 },
 "nbformat": 4,
 "nbformat_minor": 2
}
